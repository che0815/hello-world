{
 "cells": [
  {
   "cell_type": "markdown",
   "metadata": {},
   "source": [
    "[![Neuronale Netze selbst programmieren](https://raw.githubusercontent.com/che0815/hello-world/master/data/12892.jpg)](https://www.oreilly.de/buecher/12892/9783960090434-neuronale-netze-selbst-programmieren.html)"
   ]
  },
  {
   "cell_type": "code",
   "execution_count": 1,
   "metadata": {},
   "outputs": [],
   "source": [
    "import numpy as np\n",
    "import scipy.special\n",
    "import scipy.ndimage\n",
    "import matplotlib.pyplot as plt\n",
    "%matplotlib inline"
   ]
  },
  {
   "cell_type": "code",
   "execution_count": 2,
   "metadata": {},
   "outputs": [],
   "source": [
    "class neuralNetwork:\n",
    "\n",
    "    def __init__(self, inputnodes, hiddennodes, outputnodes, learningrate):\n",
    "        self.inodes = inputnodes\n",
    "        self.hnodes = hiddennodes\n",
    "        self.onodes = outputnodes\n",
    "        self.lr = learningrate\n",
    "        \n",
    "        self.wih = np.random.normal(0.0, pow(self.hnodes, -0.5), (self.hnodes, self.inodes))\n",
    "        self.who = np.random.normal(0.0, pow(self.onodes, -0.5), (self.onodes, self.hnodes))\n",
    "        \n",
    "        self.activation_function = lambda x: scipy.special.expit(x)\n",
    "        \n",
    "        self.train_errors = [] \n",
    "        pass\n",
    "    \n",
    "    def train(self, inputs_list, targets_list):\n",
    "        inputs  = np.array(inputs_list , ndmin=2).T\n",
    "        targets = np.array(targets_list, ndmin=2).T\n",
    "        hidden_inputs = np.dot(self.wih, inputs)\n",
    "        hidden_outputs = self.activation_function(hidden_inputs)\n",
    "        output_inputs = np.dot(self.who, hidden_outputs)\n",
    "        output_outputs = self.activation_function(output_inputs)\n",
    "        \n",
    "        output_errors = targets - output_outputs\n",
    "        hidden_errors = np.dot(self.who.T, output_errors)\n",
    "        \n",
    "        self.who += self.lr * np.dot((output_errors * output_outputs * (1 - output_outputs)), np.transpose(hidden_outputs))\n",
    "        self.wih += self.lr * np.dot((hidden_errors * hidden_outputs * (1 - hidden_outputs)), np.transpose(inputs))\n",
    "        \n",
    "        self.train_errors.append(np.sum(output_errors**2)) \n",
    "    \n",
    "        pass\n",
    "    \n",
    "    def query(self, inputs_lists):\n",
    "        inputs = np.array(inputs_lists, ndmin=2).T\n",
    "        hidden_inputs = np.dot(self.wih, inputs)\n",
    "        hidden_outputs = self.activation_function(hidden_inputs)\n",
    "        \n",
    "        output_inputs = np.dot(self.who, hidden_outputs)\n",
    "        output_outputs = self.activation_function(output_inputs)\n",
    "        \n",
    "        return output_outputs\n",
    "    \n",
    "    def return_wih(self):\n",
    "        return self.wih\n",
    "    def return_who(self):\n",
    "        return self.who\n",
    "    def return_err(self):\n",
    "        return self.train_errors\n",
    "    "
   ]
  },
  {
   "cell_type": "code",
   "execution_count": 3,
   "metadata": {},
   "outputs": [],
   "source": [
    "def saveNNstate(bla, wih_counter):\n",
    "    cmap = plt.cm.seismic\n",
    "    filename = 'NNstate'+str(wih_counter)\n",
    "    plt.imsave(filename, bla, cmap=cmap, vmin=-0.5, vmax=0.5)\n",
    "    wih_counter += 1\n",
    "    return wih_counter"
   ]
  },
  {
   "cell_type": "code",
   "execution_count": 4,
   "metadata": {},
   "outputs": [],
   "source": [
    "input_nodes   = 28*28\n",
    "hidden_nodes  = 200\n",
    "output_nodes  = 10\n",
    "\n",
    "learning_rate = 0.01\n",
    "\n",
    "n = neuralNetwork(input_nodes, hidden_nodes, output_nodes, learning_rate)\n",
    "wih_counter = 0\n",
    "wih_counter = saveNNstate(n.return_wih(), wih_counter)\n"
   ]
  },
  {
   "cell_type": "code",
   "execution_count": 5,
   "metadata": {},
   "outputs": [],
   "source": [
    "train_file = open('mnist_train.csv', 'r')\n",
    "train_list = train_file.readlines()\n",
    "train_file.close()"
   ]
  },
  {
   "cell_type": "code",
   "execution_count": 6,
   "metadata": {},
   "outputs": [],
   "source": [
    "test_file = open('mnist_test.csv', 'r')\n",
    "test_list = test_file.readlines()\n",
    "test_file.close()"
   ]
  },
  {
   "cell_type": "code",
   "execution_count": 7,
   "metadata": {},
   "outputs": [
    {
     "name": "stdout",
     "output_type": "stream",
     "text": [
      "0.946 5.360\n",
      "0.960 3.990\n",
      "0.968 3.250\n",
      "0.972 2.820\n",
      "0.974 2.590\n",
      "0.976 2.390\n",
      "0.977 2.340\n",
      "0.977 2.290\n",
      "0.977 2.300\n",
      "0.977 2.300\n"
     ]
    }
   ],
   "source": [
    "epochs = 10\n",
    "for e in range(epochs):\n",
    "    # train neural network\n",
    "    for record in train_list:\n",
    "        all_values = record.split(',')\n",
    "        inputs        = (np.asfarray(all_values[1:])/ 255.0 * 0.99) + 0.01\n",
    "        scaled_input =  inputs.reshape(28,28)\n",
    "        very_blurred = scipy.ndimage.gaussian_filter(scaled_input, sigma=1)\n",
    "        inputs_plus10_img = scipy.ndimage.rotate(scaled_input,  10.0, cval=0.01, order=1, reshape=False)\n",
    "        inputs_minu10_img = scipy.ndimage.rotate(scaled_input, -10.0, cval=0.01, order=1, reshape=False)\n",
    "        targets = np.zeros(output_nodes) + 0.01\n",
    "        targets[int(all_values[0])] = 0.99\n",
    "        n.train(inputs, targets)\n",
    "        n.train(very_blurred.reshape(784), targets)\n",
    "        n.train(inputs_plus10_img.reshape(784), targets)\n",
    "        n.train(inputs_minu10_img.reshape(784), targets)\n",
    "        pass\n",
    "    wih_counter = saveNNstate(n.return_wih(), wih_counter)\n",
    "    # test neural network\n",
    "    scorecard=[]\n",
    "    for record in test_list:\n",
    "        all_values    = record.split(',')\n",
    "        correct_label = int(all_values[0])\n",
    "        inputs  = (np.asfarray(all_values[1:])/255 * 0.99) + 0.01\n",
    "        output  = n.query(inputs)\n",
    "        label   = np.argmax(output)\n",
    "        if (label == correct_label):\n",
    "            scorecard.append(1)\n",
    "        else:\n",
    "            scorecard.append(0)\n",
    "            pass\n",
    "        pass\n",
    "\n",
    "    performance = np.asarray(scorecard).sum() / np.asarray(scorecard).size\n",
    "    print(\"%.3f %.3f\" % (performance, (1-performance)*100))\n",
    "    pass\n"
   ]
  },
  {
   "cell_type": "code",
   "execution_count": 19,
   "metadata": {},
   "outputs": [],
   "source": [
    "epoch_performance=np.array([[0.946, 5.360],\n",
    "[0.960, 3.990],\n",
    "[0.968, 3.250],\n",
    "[0.972, 2.820],\n",
    "[0.974, 2.590],\n",
    "[0.976, 2.390],\n",
    "[0.977, 2.340],\n",
    "[0.977, 2.290],\n",
    "[0.977, 2.300],\n",
    "[0.977, 2.300]])"
   ]
  },
  {
   "cell_type": "code",
   "execution_count": 32,
   "metadata": {},
   "outputs": [
    {
     "data": {
      "image/png": "[encoded data removed]",
      "text/plain": [
       "<Figure size 432x288 with 1 Axes>"
      ]
     },
     "metadata": {},
     "output_type": "display_data"
    }
   ],
   "source": [
    "fig1 = plt.scatter(np.arange(0,len(epoch_performance)),epoch_performance[:,0])\n",
    "plt.savefig('history.png')   # save the figure to file"
   ]
  }
 ],
 "metadata": {
  "kernelspec": {
   "display_name": "Python 3",
   "language": "python",
   "name": "python3"
  },
  "language_info": {
   "codemirror_mode": {
    "name": "ipython",
    "version": 3
   },
   "file_extension": ".py",
   "mimetype": "text/x-python",
   "name": "python",
   "nbconvert_exporter": "python",
   "pygments_lexer": "ipython3",
   "version": "3.6.5"
  }
 },
 "nbformat": 4,
 "nbformat_minor": 2
}
